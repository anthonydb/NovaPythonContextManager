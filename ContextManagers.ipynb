{
 "cells": [
  {
   "cell_type": "markdown",
   "metadata": {
    "deletable": true,
    "editable": true
   },
   "source": [
    "# Context Managers\n",
    "Consider the following\n",
    "\n",
    "\n"
   ]
  },
  {
   "cell_type": "code",
   "execution_count": null,
   "metadata": {
    "collapsed": true,
    "deletable": true,
    "editable": true
   },
   "outputs": [],
   "source": [
    "f = open('foo.txt','w')\n",
    "for x in range(10000):\n",
    "    f.write(str(x)+'\\n')\n",
    "f.close()"
   ]
  },
  {
   "cell_type": "markdown",
   "metadata": {
    "deletable": true,
    "editable": true
   },
   "source": [
    "why do we need to close, what happens if we forget? What if loop throws an exception"
   ]
  },
  {
   "cell_type": "code",
   "execution_count": null,
   "metadata": {
    "collapsed": false,
    "deletable": true,
    "editable": true
   },
   "outputs": [],
   "source": [
    "f = open('foo.txt','w')\n",
    "try:\n",
    "    for x in range(10000):\n",
    "        f.write(str(x)+'\\n')\n",
    "except:\n",
    "    raise\n",
    "finally:\n",
    "    f.close()\n"
   ]
  },
  {
   "cell_type": "markdown",
   "metadata": {
    "deletable": true,
    "editable": true
   },
   "source": [
    "Often we have pairs of things that have to occur open/close, start/stop, etc and you want to guarantee that these pair-wise opeartions always occur\n",
    "\n",
    "That's where the context managers comes in.\n",
    "\n",
    "General form of usage is:\n",
    "```\n",
    "with cm_entity as resource:\n",
    "   do_stuff with resource\n",
    "```"
   ]
  },
  {
   "cell_type": "code",
   "execution_count": null,
   "metadata": {
    "collapsed": true,
    "deletable": true,
    "editable": true
   },
   "outputs": [],
   "source": [
    "with open('foo.txt','w') as f:\n",
    "    for x in range(10000):\n",
    "        f.write(str(x)+'\\n')"
   ]
  },
  {
   "cell_type": "markdown",
   "metadata": {
    "deletable": true,
    "editable": true
   },
   "source": [
    "## So what...\n",
    "So if we don't close a file then things mostly work out right, eventually memory gets reclaimed or not, and there is a lot of memory...\n",
    "\n",
    "But let's consider another example\n",
    "\n"
   ]
  },
  {
   "cell_type": "code",
   "execution_count": null,
   "metadata": {
    "collapsed": false,
    "deletable": true,
    "editable": true
   },
   "outputs": [],
   "source": [
    "from threading import Thread,Lock\n",
    "\n",
    "my_lock = Lock()\n",
    "def my_function(n,m):    \n",
    "    my_lock.acquire()\n",
    "    # Pretend this is something we need to ensure only single access to so we need a lock\n",
    "    r = n/m\n",
    "    print(\"Result is %s\\n\"%r)\n",
    "    my_lock.release()\n",
    "\n",
    "def launch_thread(n,m):\n",
    "    t = Thread(target = my_function, args = (n,m))\n",
    "    t.start()\n",
    "    return t\n",
    "try:\n",
    "    t1 = launch_thread(2,4)\n",
    "    t2 = launch_thread(3,6)\n",
    "    t3 = launch_thread(5,2)\n",
    "    t1.join()\n",
    "    t2.join()\n",
    "    t3.join()\n",
    "finally:\n",
    "    print(\"done\")\n"
   ]
  },
  {
   "cell_type": "markdown",
   "metadata": {
    "deletable": true,
    "editable": true
   },
   "source": [
    "So we handled it fine. Even with a nice try block to handle any exceptions...\n",
    "\n",
    "But what happens here"
   ]
  },
  {
   "cell_type": "code",
   "execution_count": null,
   "metadata": {
    "collapsed": false,
    "deletable": true,
    "editable": true
   },
   "outputs": [],
   "source": [
    "try:\n",
    "    t1 = launch_thread(2,4)\n",
    "    t2 = launch_thread(3,0)\n",
    "    t3 = launch_thread(5,2)\n",
    "    t1.join()\n",
    "    t2.join()\n",
    "    t3.join()\n",
    "finally:\n",
    "    print(\"done\")"
   ]
  },
  {
   "cell_type": "markdown",
   "metadata": {
    "deletable": true,
    "editable": true
   },
   "source": [
    "Let's compare using a context handler now (Lock provides for one)"
   ]
  },
  {
   "cell_type": "code",
   "execution_count": null,
   "metadata": {
    "collapsed": false,
    "deletable": true,
    "editable": true
   },
   "outputs": [],
   "source": [
    "from threading import Thread,Lock\n",
    "\n",
    "def my_function(n,m): \n",
    "    with Lock():\n",
    "        r = n/m\n",
    "        print(\"Result is %s\\n\"%r)\n",
    "\n",
    "\n",
    "def launch_thread(n,m):\n",
    "    t = Thread(target = my_function, args = (n,m))\n",
    "    t.start()\n",
    "    return t\n",
    "try:\n",
    "    t1 = launch_thread(2,4)\n",
    "    t2 = launch_thread(3,0)\n",
    "    t3 = launch_thread(5,2)\n",
    "    t1.join()\n",
    "    t2.join()\n",
    "    t3.join()\n",
    "finally:\n",
    "    print(\"done\")"
   ]
  },
  {
   "cell_type": "markdown",
   "metadata": {
    "deletable": true,
    "editable": true
   },
   "source": [
    "The 'with' clause can be used with lots of forms of context managers. For example, one way is just a class that defines __enter__() and __exit__(). \n"
   ]
  },
  {
   "cell_type": "code",
   "execution_count": null,
   "metadata": {
    "collapsed": false,
    "deletable": true,
    "editable": true
   },
   "outputs": [],
   "source": [
    "class SimpleCM():\n",
    "    def __init__(self, name):\n",
    "        self.name = name\n",
    "        \n",
    "    def __enter__(self):\n",
    "        print(\"Entering %s\"%self.name)\n",
    "        return self\n",
    "        \n",
    "    def __exit__(self, type, value, traceback):\n",
    "        print(\"Exiting %s\"%self.name)\n",
    "        \n",
    "\n",
    "with SimpleCM(\"Mytest\") as m:\n",
    "    print(\"Running stuff\")"
   ]
  },
  {
   "cell_type": "markdown",
   "metadata": {
    "deletable": true,
    "editable": true
   },
   "source": [
    "## contextlib\n",
    "Python can make this even easier though if you wanted to do a decorator and take advantage of contextlib utilities"
   ]
  },
  {
   "cell_type": "code",
   "execution_count": null,
   "metadata": {
    "collapsed": false,
    "deletable": true,
    "editable": true
   },
   "outputs": [],
   "source": [
    "from contextlib import contextmanager\n",
    "\n",
    "@contextmanager\n",
    "def simplercm(name):\n",
    "    print(\"Entering %s\"%name)\n",
    "    yield\n",
    "    print(\"Exiting %s\"%name)\n",
    "    \n",
    "    \n",
    "with simplercm(\"Mytest2\") as m:\n",
    "    print(\"Running stuff\")    "
   ]
  },
  {
   "cell_type": "markdown",
   "metadata": {
    "collapsed": true,
    "deletable": true,
    "editable": true
   },
   "source": [
    "Note ideally you want to catch any exceptions that might be thrown in the yield "
   ]
  },
  {
   "cell_type": "code",
   "execution_count": null,
   "metadata": {
    "collapsed": false,
    "deletable": true,
    "editable": true
   },
   "outputs": [],
   "source": [
    "from contextlib import contextmanager\n",
    "@contextmanager\n",
    "def simplercm(name):\n",
    "    print(\"Entering %s\"%name)\n",
    "    try:\n",
    "        yield\n",
    "    finally:\n",
    "        print(\"Exiting %s\"%name)\n",
    "    \n",
    "    \n",
    "with simplercm(\"Mytest2\") as m:\n",
    "    print(\"Running stuff\")   \n",
    "    \n",
    " "
   ]
  },
  {
   "cell_type": "markdown",
   "metadata": {
    "deletable": true,
    "editable": true
   },
   "source": [
    "## Html Tag Example"
   ]
  },
  {
   "cell_type": "code",
   "execution_count": null,
   "metadata": {
    "collapsed": false,
    "deletable": true,
    "editable": true
   },
   "outputs": [],
   "source": [
    "from contextlib import contextmanager\n",
    "\n",
    "buffer = \"\"\n",
    "@contextmanager\n",
    "def tag(name):\n",
    "    global buffer\n",
    "    buffer += \"<%s>\" % name\n",
    "    yield \n",
    "    buffer +=\"</%s>\" % name\n",
    "    \n",
    "with tag(\"html\"):\n",
    "    with tag(\"header\"):\n",
    "        with tag(\"title\"):\n",
    "            buffer += \"A title\"\n",
    "    with tag(\"body\"):\n",
    "        with tag(\"h1\"):\n",
    "            buffer += \"Heading\"\n",
    "        with tag(\"p\"):\n",
    "            buffer += \"This is a test\"\n",
    "        with tag(\"p\"):\n",
    "            buffer += \"Another paragraph\"\n",
    "            with tag(\"b\"):\n",
    "                buffer += \"bolded\"\n",
    "print(buffer)\n",
    "        "
   ]
  },
  {
   "cell_type": "markdown",
   "metadata": {
    "collapsed": true,
    "deletable": true,
    "editable": true
   },
   "source": [
    "## Login Example"
   ]
  },
  {
   "cell_type": "markdown",
   "metadata": {
    "deletable": true,
    "editable": true
   },
   "source": [
    "Common header used by all"
   ]
  },
  {
   "cell_type": "code",
   "execution_count": null,
   "metadata": {
    "collapsed": true,
    "deletable": true,
    "editable": true
   },
   "outputs": [],
   "source": [
    "from pymongo import MongoClient\n",
    "import getpass\n",
    "import requests\n",
    "client = MongoClient('localhost', 27017)\n",
    "db=client['test_database']\n",
    "fac_collection = db['facilities']"
   ]
  },
  {
   "cell_type": "markdown",
   "metadata": {
    "deletable": true,
    "editable": true
   },
   "source": [
    "Example 1: Where we started (no context managers)"
   ]
  },
  {
   "cell_type": "code",
   "execution_count": null,
   "metadata": {
    "collapsed": false,
    "deletable": true,
    "editable": true
   },
   "outputs": [],
   "source": [
    "base_url = \"http://foo.com\"\n",
    "password = getpass.getpass(\"Password: \")\n",
    "r = requests.post(base_url+'/external_login',data={'username':'sysadmin','password':password,'facility_id':'System','format':'json'})\n",
    "visit_id = r.cookies['cram-visit']\n",
    "facilities = requests.get(base_url+'/facility/query?format=json&tg_visit='+visit_id).json()\n",
    "for f in facilities:\n",
    "    fac_collection.insert_one(f)\n",
    "r = requests.post(base_url+'/external_logout',data={'tg_visit':visit_id})\n",
    "\n",
    "fac_collection.count()"
   ]
  },
  {
   "cell_type": "markdown",
   "metadata": {
    "deletable": true,
    "editable": true
   },
   "source": [
    "Notice the pair of login/logout operations. Easy enough to refactor....\n",
    "\n",
    "Into a context manager and a client using it\n",
    "\n",
    "Notice the exception block\n"
   ]
  },
  {
   "cell_type": "code",
   "execution_count": null,
   "metadata": {
    "collapsed": true,
    "deletable": true,
    "editable": true
   },
   "outputs": [],
   "source": [
    "from contextlib import contextmanager\n",
    "@contextmanager\n",
    "def CramSession(base_url, username, password,facility_id):\n",
    "    r = requests.post(base_url+'/external_login',data={'username':username,'password':password,'facility_id':facility_id,'format':'json'})\n",
    "    visit_id = r.cookies['cram-visit']\n",
    "    try:\n",
    "        yield visit_id\n",
    "    finally:\n",
    "        r = requests.post(base_url+'/external_logout',data={'tg_visit':visit_id})\n",
    "    "
   ]
  },
  {
   "cell_type": "markdown",
   "metadata": {
    "deletable": true,
    "editable": true
   },
   "source": [
    "Client"
   ]
  },
  {
   "cell_type": "code",
   "execution_count": null,
   "metadata": {
    "collapsed": false,
    "deletable": true,
    "editable": true
   },
   "outputs": [],
   "source": [
    "\n",
    "base_url = \"http://foo.com\"\n",
    "with CramSession(base_url, \"sysadmin\", password, \"System\") as visit_id:\n",
    "    facilities = requests.get(base_url+'/facility/query?format=json&tg_visit='+visit_id).json()\n",
    "    for f in facilities:\n",
    "        fac_collection.insert_one(f)\n",
    "fac_collection.count()"
   ]
  },
  {
   "cell_type": "markdown",
   "metadata": {
    "deletable": true,
    "editable": true
   },
   "source": [
    "While this is cleaner I really want something that feels a little 'cleaner' so decided to make a class \n",
    "that could operate as a context manager. Notice there is no need for an exception block"
   ]
  },
  {
   "cell_type": "code",
   "execution_count": null,
   "metadata": {
    "collapsed": true,
    "deletable": true,
    "editable": true
   },
   "outputs": [],
   "source": [
    "class CramSession(object):\n",
    "    def __init__(self, base_url, username, password, facility_id):\n",
    "        self.base_url = base_url\n",
    "        self.username = username\n",
    "        self.password = password\n",
    "        self.facility_id = facility_id\n",
    "        self.visit_id = None\n",
    "        \n",
    "    def __enter__(self):\n",
    "        r = requests.post(self.base_url+'/external_login',\n",
    "                          data={'username':self.username,'password':self.password,'facility_id':self.facility_id,'format':'json'})\n",
    "        self.visit_id = r.cookies['cram-visit']\n",
    "        return self\n",
    "        \n",
    "    def __exit__(self, type, value, traceback):\n",
    "        r = requests.post(self.base_url+'/external_logout',data={'tg_visit':self.visit_id})\n",
    "        \n",
    "    def all_facilities(self):\n",
    "        return requests.get(self.base_url+'/facility/query?format=json&tg_visit='+self.visit_id).json()\n",
    "    "
   ]
  },
  {
   "cell_type": "markdown",
   "metadata": {
    "deletable": true,
    "editable": true
   },
   "source": [
    "Cient code is now fairly clean"
   ]
  },
  {
   "cell_type": "code",
   "execution_count": null,
   "metadata": {
    "collapsed": false,
    "deletable": true,
    "editable": true
   },
   "outputs": [],
   "source": [
    "with CramSession(\"http://foo.com\", \"sysadmin\", password, \"System\") as csession:\n",
    "    for f in csession.all_facilities():\n",
    "        fac_collection.insert_one(f)\n",
    "fac_collection.count()\n",
    "        "
   ]
  },
  {
   "cell_type": "markdown",
   "metadata": {
    "deletable": true,
    "editable": true
   },
   "source": [
    "## DB Transaction Example\n",
    "\n",
    "In this example what I want is a function that can be called in the midst of a transaction or in a new transaction. If it is already in a transaction then just keep adding to the existing transaction. If its a new transaction, then start a new session and when we are done close it. This can be referred to as a re-entrant context manager"
   ]
  },
  {
   "cell_type": "markdown",
   "metadata": {
    "collapsed": true,
    "deletable": true,
    "editable": true
   },
   "source": [
    "class SessionWrapper(object):\n",
    "    \"\"\"\n",
    "    Create a session wrapper which can close a session (if it created one)\n",
    "    \"\"\"\n",
    "    def __init__(self, ds = None, session = None):\n",
    "        \"\"\"\n",
    "        @param session: If None create a new session and close a session, otherwise don't\n",
    "        \"\"\"\n",
    "        self.ds = ds\n",
    "        self.session = session\n",
    "        self._is_new = self.session is None\n",
    "\n",
    "    def __enter__(self):\n",
    "        if self._is_new:\n",
    "            self.session = self.ds.create_session()\n",
    "        return self.session\n",
    "\n",
    "    def __exit__(self, exc_type, exc_value, traceback):\n",
    "        if self._is_new:\n",
    "            if self.session is not None:\n",
    "                self.session.close()\n",
    "                \n",
    "    \n",
    "def some_func(ds = None):    \n",
    "    with SessionWrapper(ds=ds) as session:\n",
    "        q = session.query(func.count(TraumaFact.c.PrimaryMechanismDesc), TraumaFact.c.PrimaryMechanismDesc)\n",
    "        q = self.apply_mappings(mappings, q, parm_dict)\n",
    "        q = q.group_by(TraumaFact.c.PrimaryMechanismDesc)\n",
    "        data_list = self.execute_query(q)\n",
    "    return (series, data_list, {})"
   ]
  },
  {
   "cell_type": "markdown",
   "metadata": {
    "deletable": true,
    "editable": true
   },
   "source": [
    "## Convienence context managers\n",
    "\n",
    "### closing"
   ]
  },
  {
   "cell_type": "code",
   "execution_count": null,
   "metadata": {
    "collapsed": false,
    "deletable": true,
    "editable": true
   },
   "outputs": [],
   "source": [
    "class Simple(object):\n",
    "    def __init__(self,s):\n",
    "        self.s = s\n",
    "        print(\"Opening %s\"% self.s)\n",
    "\n",
    "    def close(self):\n",
    "        print (\"Closing %s\"%self.s)\n"
   ]
  },
  {
   "cell_type": "code",
   "execution_count": null,
   "metadata": {
    "collapsed": false,
    "deletable": true,
    "editable": true
   },
   "outputs": [],
   "source": [
    "from contextlib import contextmanager\n",
    "\n",
    "@contextmanager\n",
    "def closing(e):\n",
    "    try:\n",
    "        yield e\n",
    "    finally:\n",
    "        e.close()\n",
    "        \n",
    "with closing(Simple(\"myt\")) as mys:\n",
    "    print(\"Doing whatever with %s\"%mys.s)"
   ]
  },
  {
   "cell_type": "code",
   "execution_count": null,
   "metadata": {
    "collapsed": false,
    "deletable": true,
    "editable": true
   },
   "outputs": [],
   "source": [
    "from contextlib import closing\n",
    "with closing(Simple(\"myt\")) as mys:\n",
    "    print(\"Doing whatever with %s\"%mys.s)"
   ]
  },
  {
   "cell_type": "markdown",
   "metadata": {
    "deletable": true,
    "editable": true
   },
   "source": [
    "### Suppress"
   ]
  },
  {
   "cell_type": "code",
   "execution_count": null,
   "metadata": {
    "collapsed": false,
    "deletable": true,
    "editable": true
   },
   "outputs": [],
   "source": [
    "from contextlib import suppress\n",
    "def divide_zero(x,y):\n",
    "    result = 0\n",
    "    with suppress(ZeroDivisionError):\n",
    "        result = x/y\n",
    "    return result"
   ]
  },
  {
   "cell_type": "code",
   "execution_count": null,
   "metadata": {
    "collapsed": false,
    "deletable": true,
    "editable": true
   },
   "outputs": [],
   "source": [
    "print(divide_zero(3,4))"
   ]
  },
  {
   "cell_type": "code",
   "execution_count": null,
   "metadata": {
    "collapsed": false,
    "deletable": true,
    "editable": true
   },
   "outputs": [],
   "source": [
    "print(divide_zero(5,0))"
   ]
  },
  {
   "cell_type": "markdown",
   "metadata": {
    "deletable": true,
    "editable": true
   },
   "source": [
    "### Redirections"
   ]
  },
  {
   "cell_type": "code",
   "execution_count": null,
   "metadata": {
    "collapsed": false,
    "deletable": true,
    "editable": true
   },
   "outputs": [],
   "source": [
    "import io\n",
    "from contextlib import redirect_stdout\n",
    "f = io.StringIO()\n",
    "with redirect_stdout(f):\n",
    "    help(dir)\n",
    "print(f.getvalue()[:80])\n"
   ]
  },
  {
   "cell_type": "markdown",
   "metadata": {
    "deletable": true,
    "editable": true
   },
   "source": [
    "# A Timely Example\n",
    "## A Context Manager\n"
   ]
  },
  {
   "cell_type": "code",
   "execution_count": null,
   "metadata": {
    "collapsed": false,
    "deletable": true,
    "editable": true
   },
   "outputs": [],
   "source": [
    "from contextlib import contextmanager\n",
    "from time import time\n",
    "import numpy as np\n",
    "\n",
    "@contextmanager\n",
    "def VersaTimer():\n",
    "    \"\"\"A robust time example blatently reused\"\"\"\n",
    "    start = time()\n",
    "    print(\"Staring at {}\".format(start))\n",
    "    try:\n",
    "        yield\n",
    "    finally:\n",
    "        end = time()\n",
    "        print(\"Ending at {} (total: {})\".format(end, end - start))\n",
    "        \n",
    "\n",
    "def make_l_array(n, m):\n",
    "    p_array = [x for x in range(n)]\n",
    "    return [x*m for x in p_array]\n",
    "\n",
    "def make_l_array2(n, m):    \n",
    "    n_array = np.arange(n)\n",
    "    return n_array*m\n",
    "\n",
    "    \n",
    "    \n",
    "with VersaTimer():\n",
    "    n_array = make_l_array(100000,5)\n",
    "    \n",
    "with VersaTimer():\n",
    "    n_array2 = make_l_array2(100000,5)\n",
    "assert(len(n_array)) == len(n_array2)\n",
    "\n"
   ]
  },
  {
   "cell_type": "markdown",
   "metadata": {
    "deletable": true,
    "editable": true
   },
   "source": [
    "## A decorator "
   ]
  },
  {
   "cell_type": "code",
   "execution_count": null,
   "metadata": {
    "collapsed": false,
    "deletable": true,
    "editable": true
   },
   "outputs": [],
   "source": [
    "from time import time\n",
    "from functools import wraps\n",
    "def mytimer_wrapper(wrapped):\n",
    "    @wraps(wrapped)\n",
    "    def inner(*args,**kwargs):\n",
    "        start = time()\n",
    "        print(\"Staring at {}\".format(start))\n",
    "        try:\n",
    "            retval = wrapped(*args, **kwargs)\n",
    "        finally:\n",
    "            end = time()\n",
    "        print(\"Ending at {} (total: {})\".format(end, end - start))\n",
    "    return inner\n",
    "\n",
    "@mytimer_wrapper\n",
    "def sum_power(n,p=2):\n",
    "    sum = 0\n",
    "    for i in range(n):\n",
    "        sum += pow(i,p)\n",
    "    return sum\n",
    "    \n",
    "\n",
    "print(\"Sum ^2 is {}\".format(sum_power(1000000)))\n",
    "    \n",
    "print(\"Sum ^8 is {}\".format(sum_power(1000000,8)))"
   ]
  },
  {
   "cell_type": "markdown",
   "metadata": {
    "deletable": true,
    "editable": true
   },
   "source": [
    "So now we can see doing it as a decorator OR a context library.\n",
    "\n",
    "What about \n",
    "## Both a decorator and a context manager ...\n"
   ]
  },
  {
   "cell_type": "code",
   "execution_count": null,
   "metadata": {
    "collapsed": false,
    "deletable": true,
    "editable": true
   },
   "outputs": [],
   "source": [
    "from contextlib import ContextDecorator\n",
    "from time import time\n",
    "\n",
    "class VersaTimer(ContextDecorator):\n",
    "\n",
    "    def __enter__(self):\n",
    "        self.start = time()\n",
    "        print(\"Starting at {}\".format(self.start))\n",
    "        return self\n",
    "\n",
    "    def __exit__(self, type, value, traceback):\n",
    "        self.end = time()\n",
    "        total = self.end - self.start\n",
    "        print(\"Ending at {} (total: {})\".format(self.end, total))\n",
    "        \n",
    "def sum_power(n,p=2):\n",
    "    sum = 0\n",
    "    for i in range(n):\n",
    "        sum += pow(i,p)\n",
    "    return sum\n",
    "    \n",
    "@VersaTimer()\n",
    "def mult_power(n,p=2):\n",
    "    mult = 1\n",
    "    for i in range(1,n):\n",
    "        mult *= pow(i,p)\n",
    "    return mult\n",
    "\n",
    "with VersaTimer():\n",
    "    print(\"Sum ^2 is {}\".format(sum_power(1000000)))\n",
    "    \n",
    "with VersaTimer():\n",
    "    print(\"Sum ^8 is {}\".format(sum_power(1000000,8)))\n",
    "\n",
    "\n",
    "print(\"Mult ^2 is {}\".format(mult_power(100,2)))\n",
    "\n"
   ]
  }
 ],
 "metadata": {
  "kernelspec": {
   "display_name": "Python 3",
   "language": "python",
   "name": "python3"
  },
  "language_info": {
   "codemirror_mode": {
    "name": "ipython",
    "version": 3
   },
   "file_extension": ".py",
   "mimetype": "text/x-python",
   "name": "python",
   "nbconvert_exporter": "python",
   "pygments_lexer": "ipython3",
   "version": "3.6.0"
  }
 },
 "nbformat": 4,
 "nbformat_minor": 1
}
